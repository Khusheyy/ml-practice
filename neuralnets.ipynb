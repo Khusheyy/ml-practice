{
 "cells": [
  {
   "cell_type": "code",
   "execution_count": 1,
   "id": "125b6e69-5114-448f-b98d-b6778c3ca47d",
   "metadata": {},
   "outputs": [],
   "source": [
    "import numpy as np\n",
    "import pandas as pd\n",
    "from matplotlib import pyplot as plt\n",
    "\n",
    "data = pd.read_csv('train.csv')"
   ]
  },
  {
   "cell_type": "code",
   "execution_count": 7,
   "id": "d0be9aa8-eec8-4cab-8ef8-a0a5c1e6ead7",
   "metadata": {},
   "outputs": [
    {
     "name": "stdout",
     "output_type": "stream",
     "text": [
      "The history saving thread hit an unexpected error (OperationalError('attempt to write a readonly database')).History will not be written to the database.\n"
     ]
    }
   ],
   "source": [
    "data = np.array(data)\n",
    "m, n = data.shape\n",
    "np.random.shuffle(data) # shuffle before splitting into dev and training sets\n",
    "\n",
    "data_dev = data[0:1000].T\n",
    "Y_dev = data_dev[0]\n",
    "X_dev = data_dev[1:n]\n",
    "X_dev = X_dev / 255.\n",
    "\n",
    "data_train = data[1000:m].T # transposing as well\n",
    "Y_train = data_train[0]\n",
    "X_train = data_train[1:n]\n",
    "X_train = X_train / 255.\n",
    "_,m_train = X_train.shape"
   ]
  },
  {
   "cell_type": "code",
   "execution_count": 8,
   "id": "fe9a5523-ffc1-4719-b8f5-eed08ca3dbb3",
   "metadata": {},
   "outputs": [
    {
     "data": {
      "text/plain": [
       "array([4, 8, 0, ..., 2, 3, 9])"
      ]
     },
     "execution_count": 8,
     "metadata": {},
     "output_type": "execute_result"
    }
   ],
   "source": [
    "Y_train"
   ]
  },
  {
   "cell_type": "code",
   "execution_count": 12,
   "id": "2fd31edb-f7fb-42d0-b734-8405390dc412",
   "metadata": {},
   "outputs": [],
   "source": [
    "def init_params():\n",
    "    W1 = np.random.rand(10, 784) - 0.5\n",
    "    b1 = np.random.rand(10, 1) - 0.5\n",
    "    W2 = np.random.rand(10, 10) - 0.5\n",
    "    b2 = np.random.rand(10, 1) - 0.5\n",
    "    return W1, b1, W2, b2\n",
    "\n",
    "def ReLU(Z):\n",
    "    return np.maximum(Z, 0)\n",
    "\n",
    "def softmax(Z):\n",
    "    A = np.exp(Z) / sum(np.exp(Z))\n",
    "    return A\n",
    "    \n",
    "def forward_prop(W1, b1, W2, b2, X):\n",
    "    Z1 = W1.dot(X) + b1\n",
    "    A1 = ReLU(Z1)\n",
    "    Z2 = W2.dot(A1) + b2\n",
    "    A2 = softmax(Z2)\n",
    "    return Z1, A1, Z2, A2\n",
    "\n",
    "def one_hot(Y):\n",
    "    one_hot_Y = np.zeros((Y.size, Y.max() + 1))\n",
    "    one_hot_Y[np.arange(Y.size), Y] = 1\n",
    "    one_hot_Y = one_hot_Y.T\n",
    "    return one_hot_Y\n",
    "\n",
    "def ReLU_deriv(Z):\n",
    "    return Z > 0\n",
    "\n",
    "def backward_prop(Z1, A1, Z2, A2, W1, W2, X, Y):\n",
    "    one_hot_Y = one_hot(Y)\n",
    "    dZ2 = A2 - one_hot_Y\n",
    "    dW2 = 1 / m * dZ2.dot(A1.T)\n",
    "    db2 = 1 / m * np.sum(dZ2)\n",
    "    dZ1 = W2.T.dot(dZ2) * ReLU_deriv(Z1)\n",
    "    dW1 = 1 / m * dZ1.dot(X.T)\n",
    "    db1 = 1 / m * np.sum(dZ1)\n",
    "    return dW1, db1, dW2, db2\n",
    "\n",
    "def update_params(W1, b1, W2, b2, dW1, db1, dW2, db2, alpha):\n",
    "    W1 = W1 - alpha * dW1\n",
    "    b1 = b1 - alpha * db1    \n",
    "    W2 = W2 - alpha * dW2  \n",
    "    b2 = b2 - alpha * db2    \n",
    "    return W1, b1, W2, b2"
   ]
  },
  {
   "cell_type": "code",
   "execution_count": 13,
   "id": "fe35ad35-53e8-4f4c-9c88-f2b4c669c6cd",
   "metadata": {},
   "outputs": [],
   "source": [
    "def get_predictions(A2):\n",
    "    return np.argmax(A2, 0)\n",
    "\n",
    "def get_accuracy(predictions, Y):\n",
    "    print(predictions, Y)\n",
    "    return np.sum(predictions == Y) / Y.size\n",
    "\n",
    "def gradient_descent(X, Y, alpha, iterations):\n",
    "    W1, b1, W2, b2 = init_params()\n",
    "    for i in range(iterations):\n",
    "        Z1, A1, Z2, A2 = forward_prop(W1, b1, W2, b2, X)\n",
    "        dW1, db1, dW2, db2 = backward_prop(Z1, A1, Z2, A2, W1, W2, X, Y)\n",
    "        W1, b1, W2, b2 = update_params(W1, b1, W2, b2, dW1, db1, dW2, db2, alpha)\n",
    "        if i % 10 == 0:\n",
    "            print(\"Iteration: \", i)\n",
    "            predictions = get_predictions(A2)\n",
    "            print(get_accuracy(predictions, Y))\n",
    "    return W1, b1, W2, b2"
   ]
  },
  {
   "cell_type": "code",
   "execution_count": 15,
   "id": "6caee022-b1b4-4a54-9441-f0137972fd14",
   "metadata": {},
   "outputs": [
    {
     "name": "stdout",
     "output_type": "stream",
     "text": [
      "Iteration:  0\n",
      "[1 9 9 ... 8 8 3] [4 8 0 ... 2 3 9]\n",
      "0.12363414634146341\n",
      "Iteration:  10\n",
      "[2 1 3 ... 2 8 3] [4 8 0 ... 2 3 9]\n",
      "0.21480487804878048\n",
      "Iteration:  20\n",
      "[2 1 3 ... 8 8 3] [4 8 0 ... 2 3 9]\n",
      "0.2931219512195122\n",
      "Iteration:  30\n",
      "[6 1 3 ... 2 8 5] [4 8 0 ... 2 3 9]\n",
      "0.356390243902439\n",
      "Iteration:  40\n",
      "[6 1 3 ... 2 8 5] [4 8 0 ... 2 3 9]\n",
      "0.391\n",
      "Iteration:  50\n",
      "[6 1 3 ... 2 8 5] [4 8 0 ... 2 3 9]\n",
      "0.41836585365853657\n",
      "Iteration:  60\n",
      "[6 8 3 ... 2 8 5] [4 8 0 ... 2 3 9]\n",
      "0.4444390243902439\n",
      "Iteration:  70\n",
      "[6 8 3 ... 2 8 3] [4 8 0 ... 2 3 9]\n",
      "0.46539024390243905\n",
      "Iteration:  80\n",
      "[6 8 3 ... 2 8 3] [4 8 0 ... 2 3 9]\n",
      "0.486390243902439\n",
      "Iteration:  90\n",
      "[6 8 3 ... 2 8 9] [4 8 0 ... 2 3 9]\n",
      "0.5104146341463415\n",
      "Iteration:  100\n",
      "[4 8 3 ... 2 8 9] [4 8 0 ... 2 3 9]\n",
      "0.5388536585365854\n",
      "Iteration:  110\n",
      "[4 8 3 ... 2 8 9] [4 8 0 ... 2 3 9]\n",
      "0.5645365853658536\n",
      "Iteration:  120\n",
      "[4 8 3 ... 2 8 9] [4 8 0 ... 2 3 9]\n",
      "0.5887317073170731\n",
      "Iteration:  130\n",
      "[4 8 3 ... 2 8 9] [4 8 0 ... 2 3 9]\n",
      "0.6118048780487805\n",
      "Iteration:  140\n",
      "[4 8 0 ... 2 8 9] [4 8 0 ... 2 3 9]\n",
      "0.6320487804878049\n",
      "Iteration:  150\n",
      "[4 8 0 ... 2 8 9] [4 8 0 ... 2 3 9]\n",
      "0.6517317073170732\n",
      "Iteration:  160\n",
      "[4 8 0 ... 2 8 9] [4 8 0 ... 2 3 9]\n",
      "0.6689268292682927\n",
      "Iteration:  170\n",
      "[4 8 0 ... 2 8 9] [4 8 0 ... 2 3 9]\n",
      "0.684439024390244\n",
      "Iteration:  180\n",
      "[4 8 0 ... 2 8 9] [4 8 0 ... 2 3 9]\n",
      "0.6988292682926829\n",
      "Iteration:  190\n",
      "[4 8 0 ... 2 8 9] [4 8 0 ... 2 3 9]\n",
      "0.7104390243902439\n",
      "Iteration:  200\n",
      "[4 8 0 ... 2 8 9] [4 8 0 ... 2 3 9]\n",
      "0.7213414634146341\n",
      "Iteration:  210\n",
      "[4 8 0 ... 2 8 9] [4 8 0 ... 2 3 9]\n",
      "0.7308292682926829\n",
      "Iteration:  220\n",
      "[4 8 0 ... 2 8 9] [4 8 0 ... 2 3 9]\n",
      "0.7390243902439024\n",
      "Iteration:  230\n",
      "[4 8 0 ... 2 8 9] [4 8 0 ... 2 3 9]\n",
      "0.7466829268292683\n",
      "Iteration:  240\n",
      "[4 8 0 ... 2 8 9] [4 8 0 ... 2 3 9]\n",
      "0.7538780487804878\n",
      "Iteration:  250\n",
      "[4 8 0 ... 2 8 9] [4 8 0 ... 2 3 9]\n",
      "0.7604146341463415\n",
      "Iteration:  260\n",
      "[4 8 0 ... 2 8 9] [4 8 0 ... 2 3 9]\n",
      "0.7652439024390244\n",
      "Iteration:  270\n",
      "[4 8 0 ... 2 8 9] [4 8 0 ... 2 3 9]\n",
      "0.771\n",
      "Iteration:  280\n",
      "[4 8 0 ... 2 8 9] [4 8 0 ... 2 3 9]\n",
      "0.7758048780487805\n",
      "Iteration:  290\n",
      "[4 8 0 ... 2 8 9] [4 8 0 ... 2 3 9]\n",
      "0.7811219512195122\n",
      "Iteration:  300\n",
      "[4 8 0 ... 2 8 9] [4 8 0 ... 2 3 9]\n",
      "0.7853414634146342\n",
      "Iteration:  310\n",
      "[4 8 0 ... 2 8 9] [4 8 0 ... 2 3 9]\n",
      "0.7897073170731708\n",
      "Iteration:  320\n",
      "[4 8 0 ... 2 8 9] [4 8 0 ... 2 3 9]\n",
      "0.7937317073170732\n",
      "Iteration:  330\n",
      "[4 8 0 ... 2 8 9] [4 8 0 ... 2 3 9]\n",
      "0.7975365853658537\n",
      "Iteration:  340\n",
      "[4 8 0 ... 2 8 9] [4 8 0 ... 2 3 9]\n",
      "0.8013902439024391\n",
      "Iteration:  350\n",
      "[4 8 0 ... 2 8 9] [4 8 0 ... 2 3 9]\n",
      "0.8052439024390244\n",
      "Iteration:  360\n",
      "[4 8 0 ... 2 8 9] [4 8 0 ... 2 3 9]\n",
      "0.8085609756097561\n",
      "Iteration:  370\n",
      "[4 8 0 ... 2 8 9] [4 8 0 ... 2 3 9]\n",
      "0.811439024390244\n",
      "Iteration:  380\n",
      "[4 8 0 ... 2 8 9] [4 8 0 ... 2 3 9]\n",
      "0.8143170731707317\n",
      "Iteration:  390\n",
      "[4 8 0 ... 2 8 9] [4 8 0 ... 2 3 9]\n",
      "0.8167317073170731\n",
      "Iteration:  400\n",
      "[4 8 0 ... 2 8 9] [4 8 0 ... 2 3 9]\n",
      "0.8192926829268292\n",
      "Iteration:  410\n",
      "[4 8 0 ... 2 8 9] [4 8 0 ... 2 3 9]\n",
      "0.8213170731707317\n",
      "Iteration:  420\n",
      "[4 8 0 ... 2 3 9] [4 8 0 ... 2 3 9]\n",
      "0.8234878048780487\n",
      "Iteration:  430\n",
      "[4 8 0 ... 2 3 9] [4 8 0 ... 2 3 9]\n",
      "0.8260243902439024\n",
      "Iteration:  440\n",
      "[4 8 0 ... 2 3 9] [4 8 0 ... 2 3 9]\n",
      "0.828\n",
      "Iteration:  450\n",
      "[4 8 0 ... 2 3 9] [4 8 0 ... 2 3 9]\n",
      "0.8300731707317073\n",
      "Iteration:  460\n",
      "[4 8 0 ... 2 3 9] [4 8 0 ... 2 3 9]\n",
      "0.8319756097560975\n",
      "Iteration:  470\n",
      "[4 8 0 ... 2 3 9] [4 8 0 ... 2 3 9]\n",
      "0.8337560975609756\n",
      "Iteration:  480\n",
      "[4 8 0 ... 2 3 9] [4 8 0 ... 2 3 9]\n",
      "0.8355853658536585\n",
      "Iteration:  490\n",
      "[4 8 0 ... 2 3 9] [4 8 0 ... 2 3 9]\n",
      "0.8372682926829268\n"
     ]
    }
   ],
   "source": [
    "W1, b1, W2, b2 = gradient_descent(X_train, Y_train,0.10, 500)"
   ]
  },
  {
   "cell_type": "code",
   "execution_count": 17,
   "id": "bc3b0978-e459-4a63-a1ec-9335b37492cd",
   "metadata": {},
   "outputs": [],
   "source": [
    "def make_predictions(X, W1, b1, W2, b2):\n",
    "    _, _, _, A2 = forward_prop(W1, b1, W2, b2, X)\n",
    "    predictions = get_predictions(A2)\n",
    "    return predictions\n",
    "\n",
    "def test_prediction(index, W1, b1, W2, b2):\n",
    "    current_image = X_train[:, index, None]\n",
    "    prediction = make_predictions(X_train[:, index, None], W1, b1, W2, b2)\n",
    "    label = Y_train[index]\n",
    "    print(\"Prediction: \", prediction)\n",
    "    print(\"Label: \", label)\n",
    "    \n",
    "    current_image = current_image.reshape((28, 28)) * 255\n",
    "    plt.gray()\n",
    "    plt.imshow(current_image, interpolation='nearest')\n",
    "    plt.show()"
   ]
  },
  {
   "cell_type": "code",
   "execution_count": 19,
   "id": "6a0f3e48-9712-446f-a607-8f862a1d3120",
   "metadata": {},
   "outputs": [
    {
     "name": "stdout",
     "output_type": "stream",
     "text": [
      "Prediction:  [6]\n",
      "Label:  6\n"
     ]
    },
    {
     "data": {
      "image/png": "[encoded data removed]",
      "text/plain": [
       "<Figure size 640x480 with 1 Axes>"
      ]
     },
     "metadata": {},
     "output_type": "display_data"
    }
   ],
   "source": [
    "test_prediction(5,W1,b1,W2,b2)"
   ]
  },
  {
   "cell_type": "code",
   "execution_count": 20,
   "id": "986fa337-9cd9-4151-9848-65adf4d0a825",
   "metadata": {},
   "outputs": [
    {
     "name": "stdout",
     "output_type": "stream",
     "text": [
      "Prediction:  [3]\n",
      "Label:  3\n"
     ]
    },
    {
     "data": {
      "image/png": "[encoded data removed]",
      "text/plain": [
       "<Figure size 640x480 with 1 Axes>"
      ]
     },
     "metadata": {},
     "output_type": "display_data"
    }
   ],
   "source": [
    "test_prediction(23,W1,b1,W2,b2)"
   ]
  },
  {
   "cell_type": "code",
   "execution_count": 21,
   "id": "a5dfafdb-7b79-4fd0-94af-1a4a8bcb7885",
   "metadata": {},
   "outputs": [
    {
     "name": "stdout",
     "output_type": "stream",
     "text": [
      "Prediction:  [9]\n",
      "Label:  9\n"
     ]
    },
    {
     "data": {
      "image/png": "[encoded data removed]",
      "text/plain": [
       "<Figure size 640x480 with 1 Axes>"
      ]
     },
     "metadata": {},
     "output_type": "display_data"
    }
   ],
   "source": [
    "test_prediction(500,W1,b1,W2,b2)"
   ]
  },
  {
   "cell_type": "code",
   "execution_count": 22,
   "id": "d6bdf160-b27e-4f09-922b-3411ac01d3fa",
   "metadata": {},
   "outputs": [
    {
     "name": "stdout",
     "output_type": "stream",
     "text": [
      "Prediction:  [7]\n",
      "Label:  2\n"
     ]
    },
    {
     "data": {
      "image/png": "[encoded data removed]",
      "text/plain": [
       "<Figure size 640x480 with 1 Axes>"
      ]
     },
     "metadata": {},
     "output_type": "display_data"
    }
   ],
   "source": [
    "test_prediction(5555,W1,b1,W2,b2)"
   ]
  },
  {
   "cell_type": "code",
   "execution_count": 23,
   "id": "69fe8959-3ede-44a2-90a6-4d51134ebe44",
   "metadata": {},
   "outputs": [
    {
     "name": "stdout",
     "output_type": "stream",
     "text": [
      "[2 6 7 3 5 2 1 6 3 1 9 1 7 3 3 9 2 1 3 3 0 7 8 4 5 9 8 8 6 1 8 0 7 0 3 9 3\n",
      " 1 6 4 2 7 9 1 8 1 7 3 0 5 3 2 9 6 9 2 7 0 6 1 9 3 1 6 4 5 2 5 1 5 0 2 4 8\n",
      " 2 6 4 6 1 4 9 6 3 4 6 0 1 6 1 1 1 2 9 8 9 2 3 0 2 9 3 6 6 6 0 7 4 7 9 4 7\n",
      " 8 2 6 7 5 2 4 4 6 0 0 9 9 6 9 6 6 9 9 0 3 5 9 9 1 7 0 5 5 6 6 7 7 9 3 5 6\n",
      " 5 3 3 0 7 7 8 7 4 1 2 9 9 6 7 1 6 9 1 9 1 9 5 4 7 0 5 1 2 5 2 9 9 4 1 1 9\n",
      " 5 7 4 8 2 7 3 3 2 1 2 7 2 0 4 2 9 6 0 1 6 5 2 9 3 6 3 4 4 3 8 2 7 2 9 3 9\n",
      " 7 3 6 2 9 7 0 7 8 9 2 7 5 1 6 3 0 1 6 3 3 4 0 0 7 5 8 0 0 6 0 9 1 2 8 3 8\n",
      " 6 5 0 2 5 5 3 4 2 1 2 9 8 1 4 1 3 0 1 1 1 4 0 4 9 7 2 4 4 7 9 1 7 3 9 2 7\n",
      " 5 4 3 5 0 1 6 5 1 4 6 8 3 7 6 1 8 4 0 3 6 2 2 9 7 5 1 4 8 9 0 5 7 8 5 2 7\n",
      " 4 6 9 4 5 4 8 1 8 2 9 8 9 9 9 6 8 0 1 6 6 1 7 2 1 8 7 9 6 2 0 2 5 0 2 6 4\n",
      " 5 3 4 0 2 2 2 9 7 2 1 8 8 9 8 7 0 1 1 5 4 4 2 7 0 5 6 1 5 0 4 4 7 0 2 2 6\n",
      " 1 5 8 5 2 9 1 3 3 9 0 3 9 0 1 4 4 4 7 6 0 8 5 4 1 6 7 0 6 4 9 9 6 8 5 0 2\n",
      " 1 5 0 1 8 6 8 1 6 2 9 8 3 6 3 6 7 8 4 7 2 2 8 5 5 1 6 7 7 4 4 5 3 6 9 3 3\n",
      " 4 6 2 0 7 6 5 2 8 4 9 7 8 4 6 3 4 5 5 7 3 6 0 6 6 6 7 5 2 9 1 6 9 3 6 8 2\n",
      " 4 8 0 5 0 0 8 5 3 1 6 6 4 3 1 8 0 3 4 2 2 5 5 7 7 1 2 6 8 2 3 9 5 9 1 1 7\n",
      " 3 2 1 8 4 4 9 5 2 8 7 4 1 7 0 2 8 4 0 5 6 5 8 7 7 2 4 6 1 0 5 1 8 3 7 4 3\n",
      " 8 6 6 2 6 5 2 3 6 3 0 2 3 5 9 6 6 6 2 2 2 5 0 9 1 9 9 7 8 6 1 2 7 1 1 6 0\n",
      " 0 5 3 5 6 5 4 1 8 0 3 6 8 4 9 2 0 2 1 6 8 2 5 8 3 6 6 7 4 0 9 4 6 7 8 9 9\n",
      " 3 3 7 1 1 3 2 3 2 0 3 0 4 5 6 9 7 9 7 4 3 4 0 5 3 7 6 0 2 5 1 9 9 9 4 2 9\n",
      " 1 9 4 7 7 1 9 4 7 6 2 2 6 7 0 5 0 1 1 7 4 3 8 9 9 4 1 0 2 1 3 9 0 7 9 4 9\n",
      " 0 4 3 6 5 9 3 6 9 6 7 9 3 5 3 8 0 8 1 2 9 3 8 2 0 8 6 7 3 2 0 2 6 3 7 9 4\n",
      " 9 3 3 7 0 0 9 8 2 5 7 3 4 9 7 7 2 2 0 0 7 4 3 8 4 0 3 0 0 8 6 8 0 9 8 0 3\n",
      " 8 1 6 1 5 5 8 7 8 1 1 9 8 7 9 6 8 6 4 4 5 9 9 6 6 5 4 2 0 7 8 8 5 6 1 5 3\n",
      " 4 9 9 4 0 4 0 8 9 7 0 7 5 1 6 8 9 4 6 5 1 3 8 0 5 9 1 0 1 2 9 4 3 0 8 8 0\n",
      " 6 3 8 5 7 0 6 2 4 3 6 4 9 3 1 9 3 1 8 8 1 1 6 3 3 9 7 8 1 2 3 2 3 2 3 5 3\n",
      " 1 6 3 2 6 2 4 4 5 5 7 2 5 7 8 2 8 2 8 5 4 8 9 7 2 5 9 9 5 2 4 0 1 9 2 5 9\n",
      " 9 2 7 8 4 2 5 9 8 1 8 8 0 7 4 3 4 4 4 6 7 3 7 4 5 7 0 6 5 8 5 5 4 3 2 0 8\n",
      " 2] [2 6 7 3 5 2 1 6 5 1 4 8 7 3 3 9 2 1 3 3 0 7 8 4 5 9 8 8 6 1 8 0 7 0 3 9 8\n",
      " 1 6 4 2 7 9 1 8 1 7 3 0 6 3 2 9 6 9 2 7 0 6 1 9 3 1 6 9 5 2 5 1 5 0 2 4 8\n",
      " 4 8 4 6 1 4 7 6 3 4 6 2 1 6 8 1 1 2 9 2 9 2 3 0 2 9 3 6 6 6 0 7 9 7 9 4 7\n",
      " 8 2 6 9 9 2 4 4 2 6 0 4 9 6 9 6 6 9 3 0 3 8 9 9 1 7 0 5 5 6 6 7 7 9 3 5 6\n",
      " 5 3 3 0 7 7 8 3 4 1 2 4 9 6 7 1 6 9 1 9 1 9 5 4 7 0 8 1 2 5 2 7 9 4 1 1 9\n",
      " 5 7 4 8 2 7 3 3 4 1 2 7 2 0 4 2 9 6 0 1 6 5 4 9 3 5 3 4 4 2 8 2 7 2 9 3 9\n",
      " 7 3 6 2 7 7 0 7 8 9 9 2 5 1 6 3 0 1 6 3 2 7 0 0 7 3 8 0 0 6 0 9 1 2 8 5 8\n",
      " 6 5 0 8 5 8 3 9 2 1 2 7 8 1 4 1 3 0 8 1 1 4 0 4 9 7 2 4 4 9 9 1 7 5 9 2 7\n",
      " 5 9 3 5 0 1 2 5 1 4 6 6 3 7 5 1 8 4 0 5 6 2 2 8 7 5 1 4 8 4 0 5 7 8 5 2 7\n",
      " 4 6 9 4 5 4 8 2 8 2 9 6 9 9 9 6 8 0 1 6 6 1 7 2 1 8 7 8 6 2 0 6 5 0 2 6 4\n",
      " 5 3 4 6 2 2 2 9 7 2 1 8 8 4 8 7 0 1 4 0 4 4 2 7 0 5 6 1 5 0 4 2 7 0 2 2 6\n",
      " 1 5 8 8 2 7 1 3 3 9 0 3 7 3 8 4 4 2 7 6 0 8 5 4 6 6 7 0 6 4 3 9 6 1 5 0 2\n",
      " 1 5 0 1 8 6 2 1 6 2 4 8 3 2 3 6 7 2 5 7 2 2 8 5 5 1 6 7 7 9 4 5 3 6 9 3 3\n",
      " 4 6 2 0 7 6 5 1 8 4 9 7 8 4 6 3 4 3 5 7 3 6 0 6 6 6 7 5 2 9 1 6 9 3 6 8 2\n",
      " 4 8 0 5 0 0 8 5 3 1 6 6 4 8 1 8 0 3 9 3 2 5 5 7 7 1 2 6 8 2 3 9 3 4 1 1 7\n",
      " 3 2 1 8 2 4 9 5 2 8 7 4 1 7 0 2 1 4 0 5 6 3 8 7 7 2 4 5 1 0 5 1 8 3 7 4 3\n",
      " 8 6 6 2 6 5 3 3 6 5 0 2 8 5 9 6 6 6 2 6 2 5 0 9 1 9 9 7 8 6 1 2 7 1 1 6 0\n",
      " 0 5 3 5 6 8 4 1 8 0 3 6 8 4 9 2 0 2 1 6 8 2 5 8 8 6 6 7 4 0 9 4 6 5 1 9 5\n",
      " 3 3 7 1 1 3 2 5 2 0 3 0 4 5 6 4 7 9 7 4 3 4 0 5 3 7 6 0 2 5 1 9 9 7 4 3 9\n",
      " 1 7 4 7 7 1 9 4 7 6 2 1 6 7 0 5 0 1 1 7 4 3 8 1 9 5 1 0 2 1 3 7 0 7 9 4 9\n",
      " 0 4 3 6 5 9 3 6 9 6 7 9 8 3 3 8 0 8 1 2 9 3 8 2 0 8 6 9 9 0 0 2 6 1 7 4 4\n",
      " 9 3 3 7 0 0 9 5 2 5 7 3 4 9 7 7 2 2 0 0 7 8 3 8 4 0 3 0 0 8 6 8 0 9 8 5 3\n",
      " 5 1 6 1 5 2 8 7 8 1 1 9 8 7 7 6 8 6 4 9 5 9 2 6 6 5 4 1 2 9 8 3 5 6 1 5 8\n",
      " 4 9 9 4 0 4 0 3 9 7 5 7 9 1 6 8 7 4 6 5 7 3 8 0 7 8 1 9 1 2 9 4 3 0 2 8 0\n",
      " 6 3 8 5 9 0 6 9 4 3 6 4 9 5 1 9 3 1 8 8 1 1 6 3 3 7 7 8 1 2 3 2 3 2 3 5 1\n",
      " 1 6 8 2 6 3 4 4 5 5 9 2 5 7 8 2 8 2 8 5 4 8 9 7 2 5 4 9 5 2 4 0 1 8 6 5 9\n",
      " 9 2 7 8 4 2 5 8 8 1 8 8 0 7 9 8 4 4 4 6 7 3 7 4 5 7 0 6 8 8 5 5 4 0 2 0 3\n",
      " 2]\n"
     ]
    },
    {
     "data": {
      "text/plain": [
       "np.float64(0.852)"
      ]
     },
     "execution_count": 23,
     "metadata": {},
     "output_type": "execute_result"
    }
   ],
   "source": [
    "dev_predictions = make_predictions(X_dev, W1, b1, W2, b2)\n",
    "get_accuracy(dev_predictions, Y_dev)\n"
   ]
  },
  {
   "cell_type": "code",
   "execution_count": null,
   "id": "b254a141-44b9-4b3b-b3b2-1e2b5009a620",
   "metadata": {},
   "outputs": [],
   "source": []
  }
 ],
 "metadata": {
  "kernelspec": {
   "display_name": "Python 3 (ipykernel)",
   "language": "python",
   "name": "python3"
  },
  "language_info": {
   "codemirror_mode": {
    "name": "ipython",
    "version": 3
   },
   "file_extension": ".py",
   "mimetype": "text/x-python",
   "name": "python",
   "nbconvert_exporter": "python",
   "pygments_lexer": "ipython3",
   "version": "3.13.0"
  }
 },
 "nbformat": 4,
 "nbformat_minor": 5
}
