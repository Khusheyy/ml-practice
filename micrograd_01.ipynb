{
 "cells": [
  {
   "cell_type": "code",
   "execution_count": 1,
   "id": "3b637fff-5deb-4a40-846b-d7c9d7ab9803",
   "metadata": {},
   "outputs": [],
   "source": [
    "import math\n",
    "import numpy as np\n",
    "import matplotlib.pyplot as plt\n",
    "%matplotlib inline"
   ]
  },
  {
   "cell_type": "code",
   "execution_count": 2,
   "id": "35d38f6b-3e3b-4f80-90c9-fb3bc10f5982",
   "metadata": {},
   "outputs": [],
   "source": [
    "def f(x):\n",
    "    return 3*x**2 - 4*x +2"
   ]
  },
  {
   "cell_type": "code",
   "execution_count": 3,
   "id": "5d40a6f0-4766-47c0-b9c1-b9f91f3c74ad",
   "metadata": {},
   "outputs": [
    {
     "data": {
      "text/plain": [
       "17.0"
      ]
     },
     "execution_count": 3,
     "metadata": {},
     "output_type": "execute_result"
    }
   ],
   "source": [
    "f(3.0)"
   ]
  },
  {
   "cell_type": "code",
   "execution_count": 4,
   "id": "66fce8c8-7214-4be2-bf45-9161de694abc",
   "metadata": {},
   "outputs": [
    {
     "data": {
      "text/plain": [
       "[<matplotlib.lines.Line2D at 0x10778b9d0>]"
      ]
     },
     "execution_count": 4,
     "metadata": {},
     "output_type": "execute_result"
    },
    {
     "data": {
      "image/png": "[encoded data removed]",
      "text/plain": [
       "<Figure size 640x480 with 1 Axes>"
      ]
     },
     "metadata": {},
     "output_type": "display_data"
    }
   ],
   "source": [
    "xs = np.arange(-5,5,0.25)\n",
    "ys = f(xs)\n",
    "plt.plot(xs,ys)\n"
   ]
  },
  {
   "cell_type": "code",
   "execution_count": 5,
   "id": "ec1d42e0-f145-4426-a2a8-36863863152c",
   "metadata": {},
   "outputs": [
    {
     "data": {
      "text/plain": [
       "17.014003000000002"
      ]
     },
     "execution_count": 5,
     "metadata": {},
     "output_type": "execute_result"
    }
   ],
   "source": [
    "h = 0.001\n",
    "x=3\n",
    "f(x+h)"
   ]
  },
  {
   "cell_type": "code",
   "execution_count": 8,
   "id": "46d07ccf-8840-4b15-a3f6-3282a925bd51",
   "metadata": {},
   "outputs": [
    {
     "name": "stdout",
     "output_type": "stream",
     "text": [
      "alpha_i: [ 0.69191265 -0.56316781  0.20724622 -0.31925837]\n",
      "b: 0.01157688645752386\n"
     ]
    }
   ],
   "source": [
    "import numpy as np\n",
    "\n",
    "# Dummy data\n",
    "X = np.array([[2, 3], [1, 5], [2, 8], [5, 1]])\n",
    "Y = np.array([1, -1, 1, -1])\n",
    "alpha_i = np.zeros(len(X))\n",
    "b = 0.0\n",
    "\n",
    "epochs = 100\n",
    "lr = 0.05\n",
    "expanding_rate = 0.99\n",
    "retracting_rate = 1.01\n",
    "\n",
    "def predict(alpha_i, b, x):\n",
    "    wx = 0\n",
    "    for j in range(len(X)):\n",
    "        wx += alpha_i[j] * np.dot(X[j], x)\n",
    "    return wx + b\n",
    "\n",
    "for _ in range(epochs):\n",
    "    i = np.random.randint(0, len(X))\n",
    "    x, y = X[i], Y[i]\n",
    "    ypred = predict(alpha_i, b, x)\n",
    "    \n",
    "    if (ypred > 0 and y > 0) or (ypred < 0 and y < 0):\n",
    "        if -1 < ypred < 1:\n",
    "            alpha_i[i] += y * lr\n",
    "            alpha_i = alpha_i * retracting_rate           \n",
    "            b += y * lr * retracting_rate\n",
    "        else:\n",
    "            alpha_i = alpha_i * expanding_rate\n",
    "            b *= expanding_rate\n",
    "    else:\n",
    "        alpha_i[i] += y * lr\n",
    "        alpha_i = alpha_i * expanding_rate\n",
    "        b += y * lr * expanding_rate\n",
    "\n",
    "print(\"alpha_i:\", alpha_i)\n",
    "print(\"b:\", b)\n"
   ]
  },
  {
   "cell_type": "code",
   "execution_count": null,
   "id": "5c5b5a5d-0de1-4621-80bf-74b53af56851",
   "metadata": {},
   "outputs": [],
   "source": []
  }
 ],
 "metadata": {
  "kernelspec": {
   "display_name": "Python 3 (ipykernel)",
   "language": "python",
   "name": "python3"
  },
  "language_info": {
   "codemirror_mode": {
    "name": "ipython",
    "version": 3
   },
   "file_extension": ".py",
   "mimetype": "text/x-python",
   "name": "python",
   "nbconvert_exporter": "python",
   "pygments_lexer": "ipython3",
   "version": "3.13.0"
  }
 },
 "nbformat": 4,
 "nbformat_minor": 5
}
